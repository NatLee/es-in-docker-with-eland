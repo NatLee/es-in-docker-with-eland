{
 "cells": [
  {
   "cell_type": "markdown",
   "metadata": {},
   "source": [
    "## 連接ES"
   ]
  },
  {
   "cell_type": "code",
   "execution_count": 2,
   "metadata": {},
   "outputs": [
    {
     "name": "stdout",
     "output_type": "stream",
     "text": [
      "Connected to cluster named 'docker-cluster' (version: 8.15.0)\n"
     ]
    }
   ],
   "source": [
    "import pandas as pd\n",
    "from elasticsearch import Elasticsearch\n",
    "import random\n",
    "import string\n",
    "\n",
    "es_kwargs = {\n",
    "    \"hosts\": \"https://localhost:9200\",\n",
    "    \"basic_auth\": ('elastic', 'pass.123')\n",
    "}\n",
    "\n",
    "es = Elasticsearch(**es_kwargs, ca_certs='./ca.crt')\n",
    "es_info = es.info()\n",
    "print(f\"Connected to cluster named '{es_info['cluster_name']}' (version: {es_info['version']['number']})\")\n"
   ]
  },
  {
   "cell_type": "markdown",
   "metadata": {},
   "source": [
    "## 建立索引並插入資料"
   ]
  },
  {
   "cell_type": "code",
   "execution_count": 3,
   "metadata": {},
   "outputs": [],
   "source": [
    "from eland import pandas_to_eland\n",
    "\n",
    "index_name = \"random_data_index\"\n",
    "\n",
    "if not es.indices.exists(index=index_name):\n",
    "    es.indices.create(index=index_name)\n",
    "\n",
    "def generate_random_data(n):\n",
    "    data = []\n",
    "    for i in range(n):\n",
    "        random_string = ''.join(random.choices(string.ascii_letters + string.digits, k=10))\n",
    "        data.append({\n",
    "            \"id\": i,\n",
    "            \"random_string\": random_string,\n",
    "            \"random_number\": random.randint(1, 1000)\n",
    "        })\n",
    "    return data\n",
    "\n",
    "num_records = 20000\n",
    "random_data = generate_random_data(num_records)\n",
    "\n",
    "df = pd.DataFrame(random_data)\n",
    "\n",
    "ed = pandas_to_eland(\n",
    "    pd_df=df,\n",
    "    es_client=es,\n",
    "    es_dest_index=index_name,\n",
    "    es_if_exists=\"replace\",\n",
    "    es_refresh=True\n",
    ")\n",
    "\n"
   ]
  },
  {
   "cell_type": "markdown",
   "metadata": {},
   "source": [
    "## 驗證資料是否插入成功"
   ]
  },
  {
   "cell_type": "code",
   "execution_count": 7,
   "metadata": {},
   "outputs": [
    {
     "name": "stdout",
     "output_type": "stream",
     "text": [
      "成功插入 20000 筆資料到Index 'random_data_index'\n",
      "Index 'random_data_index' 中的documnet數量: 20000\n"
     ]
    }
   ],
   "source": [
    "print(f\"成功插入 {num_records} 筆資料到Index '{index_name}'\")\n",
    "count = es.count(index=index_name)\n",
    "print(f\"Index '{index_name}' 中的documnet數量: {count['count']}\")"
   ]
  },
  {
   "cell_type": "markdown",
   "metadata": {},
   "source": [
    "## 驗證eland是否可以讀出超過一萬筆資料"
   ]
  },
  {
   "cell_type": "code",
   "execution_count": 8,
   "metadata": {},
   "outputs": [
    {
     "name": "stdout",
     "output_type": "stream",
     "text": [
      "Index 'random_data_index' 中的總資料筆數: 20000\n",
      "成功讀取的筆數: 20000\n",
      "\n",
      "前5筆資料:\n",
      "          id  random_number random_string\n",
      "17533  17533            730    3XgoYutGqV\n",
      "17540  17540            725    5svQfLsnfv\n",
      "15331  15331            824    JYdBjAGABK\n",
      "15332  15332             59    P9smoeSk4h\n",
      "17557  17557             56    2JcanK8yyo\n",
      "\n",
      "資料類型:\n",
      "id                int64\n",
      "random_number     int64\n",
      "random_string    object\n",
      "dtype: object\n"
     ]
    }
   ],
   "source": [
    "import eland\n",
    "\n",
    "# 從ES中讀取資料\n",
    "ed_df = eland.DataFrame(es_client=es, es_index_pattern=index_name)\n",
    "\n",
    "total_rows = len(ed_df)\n",
    "print(f\"Index '{index_name}' 中的總資料筆數: {total_rows}\")\n",
    "\n",
    "# 把資料轉換成Pandas DataFrame\n",
    "pd_df = ed_df.to_pandas()\n",
    "\n",
    "print(f\"成功讀取的筆數: {len(pd_df)}\")\n",
    "print(\"\\n前5筆資料:\")\n",
    "print(pd_df.head())\n",
    "print(\"\\n資料類型:\")\n",
    "print(pd_df.dtypes)\n",
    "\n"
   ]
  },
  {
   "cell_type": "code",
   "execution_count": 9,
   "metadata": {},
   "outputs": [
    {
     "name": "stdout",
     "output_type": "stream",
     "text": [
      "ed_df的物件類型: <class 'eland.dataframe.DataFrame'>\n",
      "隨機數大於500的資料數量: 10039\n",
      "隨機數最大的10筆記錄:\n",
      "          id  random_number random_string\n",
      "12106  12106              1    9ABGiIe21i\n",
      "2038    2038              1    ENRb0r7AN6\n",
      "12871  12871              1    iS8fhY3nXT\n",
      "15958  15958              1    Kn19wZdLE8\n",
      "15302  15302              1    9b6VmhDxn6\n",
      "3029    3029              1    bZSR3D6UKl\n",
      "16409  16409              1    K2TJaFtKG3\n",
      "2459    2459              1    NtIMQBud4O\n",
      "19913  19913              1    XZ7JCHwoEo\n",
      "8778    8778              1    6It53Zn27t\n",
      "\n",
      "出現次數最多的5個隨機數:\n",
      "                 id random_string\n",
      "              count         count\n",
      "random_number                    \n",
      "1000             21            21\n",
      "999              14            14\n",
      "998              16            16\n",
      "997              18            18\n",
      "996              14            14\n",
      "\n",
      "隨機數在300到700之間的資料數量: 7959\n",
      "\n",
      "隨機字串中包含'a'的資料數量: 3002\n"
     ]
    }
   ],
   "source": [
    "# 從ES中讀取資料\n",
    "ed_df = eland.DataFrame(es_client=es, es_index_pattern=index_name)\n",
    "\n",
    "# 詳細的API說明可參考官方文件:\n",
    "# https://eland.readthedocs.io/en/v8.15.0/reference/supported_apis.html\n",
    "\n",
    "# 秀出ed_df的物件類型\n",
    "print(f\"ed_df的物件類型: {type(ed_df)}\")\n",
    "\n",
    "# 1. 基本篩選查詢\n",
    "filtered_df = ed_df[ed_df['random_number'] > 500]\n",
    "print(f\"隨機數大於500的資料數量: {len(filtered_df)}\")\n",
    "\n",
    "# 2. 排序並獲取前10筆記錄（eland不支援pandas的sort_values方法）\n",
    "sorted_df = ed_df.es_query({\n",
    "    \"sort\": [{\"random_number\": {\"order\": \"desc\"}}]\n",
    "})\n",
    "pandas_df = ed_df.to_pandas()\n",
    "sorted_df = pandas_df.sort_values('random_number', ascending=True)\n",
    "print(f\"隨機數最大的10筆記錄:\")\n",
    "print(sorted_df.head(10))\n",
    "\n",
    "# 3. 分組聚合\n",
    "grouping_df = ed_df.groupby('random_number').agg(['count'])\n",
    "grouping_df = grouping_df.sort_values('random_number', ascending=False)\n",
    "print(\"\\n出現次數最多的5個隨機數:\")\n",
    "print(grouping_df.head(5))\n",
    "\n",
    "\n",
    "# 4. 複雜條件查詢\n",
    "complex_query = ed_df[(ed_df['random_number'] > 300) & (ed_df['random_number'] < 700)]\n",
    "print(f\"\\n隨機數在300到700之間的資料數量: {len(complex_query)}\")\n",
    "\n",
    "# 5. 文字搜尋\n",
    "char_query = ed_df['random_string'].to_pandas()\n",
    "char_query = char_query[char_query.str.contains('a')]\n",
    "print(f\"\\n隨機字串中包含'a'的資料數量: {len(char_query)}\")\n",
    "\n"
   ]
  },
  {
   "cell_type": "code",
   "execution_count": 10,
   "metadata": {},
   "outputs": [
    {
     "name": "stdout",
     "output_type": "stream",
     "text": [
      "\n",
      "ID從1000到1009的資料:\n",
      "        id  random_number random_string\n",
      "1000  1000            264    Btis2dkYKm\n",
      "1001  1001            307    oSJYtfZ5kO\n",
      "1002  1002            423    khFm4Fhh5M\n",
      "1003  1003            916    UZUctHkYJj\n",
      "1004  1004            518    XbdpvRrrid\n",
      "1005  1005            229    EoMz4see28\n",
      "1006  1006            872    3kNJJLIc9Z\n",
      "1007  1007            361    MOLCUitXnL\n",
      "1008  1008            780    zdIvHMnXYE\n",
      "1009  1009            500    FOszDrunrQ\n",
      "\n",
      "隨機數的統計資訊:\n",
      "count    20000.000000\n",
      "mean       499.836250\n",
      "std        288.577099\n",
      "min          1.000000\n",
      "25%        248.560124\n",
      "50%        502.025191\n",
      "75%        748.952927\n",
      "max       1000.000000\n",
      "Name: random_number, dtype: float64\n",
      "\n",
      "使用ES原生查詢，隨機數大於等於990的資料數量: 213\n"
     ]
    }
   ],
   "source": [
    "# 6. 獲取特定ID範圍的資料\n",
    "id_range_query = ed_df[(ed_df['id'] >= 1000) & (ed_df['id'] < 1010)]\n",
    "print(\"\\nID從1000到1009的資料:\")\n",
    "print(id_range_query.to_pandas())\n",
    "\n",
    "# 7. 計算統計資訊\n",
    "statics = ed_df['random_number'].describe()\n",
    "print(\"\\n隨機數的統計資訊:\")\n",
    "print(statics)\n",
    "\n",
    "# 8. 使用ES原生查詢\n",
    "original_query = ed_df.es_query(\n",
    "    {\n",
    "        \"query\": {\n",
    "            \"range\": {\n",
    "                \"random_number\": {\n",
    "                    \"gte\": 990\n",
    "                }\n",
    "            }\n",
    "        }\n",
    "    }\n",
    ")\n",
    "print(f\"\\n使用ES原生查詢，隨機數大於等於990的資料數量: {len(original_query)}\")"
   ]
  }
 ],
 "metadata": {
  "kernelspec": {
   "display_name": "es-test",
   "language": "python",
   "name": "python3"
  },
  "language_info": {
   "codemirror_mode": {
    "name": "ipython",
    "version": 3
   },
   "file_extension": ".py",
   "mimetype": "text/x-python",
   "name": "python",
   "nbconvert_exporter": "python",
   "pygments_lexer": "ipython3",
   "version": "3.11.9"
  }
 },
 "nbformat": 4,
 "nbformat_minor": 2
}
