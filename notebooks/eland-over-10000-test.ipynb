{
 "cells": [
  {
   "cell_type": "markdown",
   "metadata": {},
   "source": [
    "## 連接ES"
   ]
  },
  {
   "cell_type": "code",
   "execution_count": 1,
   "metadata": {},
   "outputs": [
    {
     "name": "stdout",
     "output_type": "stream",
     "text": [
      "Connected to cluster named 'docker-cluster' (version: 8.15.0)\n"
     ]
    }
   ],
   "source": [
    "import pandas as pd\n",
    "from elasticsearch import Elasticsearch\n",
    "import random\n",
    "import string\n",
    "\n",
    "es_kwargs = {\n",
    "    \"hosts\": \"https://localhost:9200\",\n",
    "    \"basic_auth\": ('elastic', 'pass.123')\n",
    "}\n",
    "\n",
    "es = Elasticsearch(**es_kwargs, ca_certs='../ca.crt')\n",
    "es_info = es.info()\n",
    "print(f\"Connected to cluster named '{es_info['cluster_name']}' (version: {es_info['version']['number']})\")\n"
   ]
  },
  {
   "cell_type": "markdown",
   "metadata": {},
   "source": [
    "## 建立索引並插入資料"
   ]
  },
  {
   "cell_type": "code",
   "execution_count": 2,
   "metadata": {},
   "outputs": [],
   "source": [
    "from eland import pandas_to_eland\n",
    "\n",
    "index_name = \"random_data_index\"\n",
    "\n",
    "if not es.indices.exists(index=index_name):\n",
    "    es.indices.create(index=index_name)\n",
    "\n",
    "def generate_random_data(n):\n",
    "    data = []\n",
    "    for i in range(n):\n",
    "        random_string = ''.join(random.choices(string.ascii_letters + string.digits, k=10))\n",
    "        data.append({\n",
    "            \"id\": i,\n",
    "            \"random_string\": random_string,\n",
    "            \"random_number\": random.randint(1, 1000)\n",
    "        })\n",
    "    return data\n",
    "\n",
    "num_records = 20000\n",
    "random_data = generate_random_data(num_records)\n",
    "\n",
    "df = pd.DataFrame(random_data)\n",
    "\n",
    "ed = pandas_to_eland(\n",
    "    pd_df=df,\n",
    "    es_client=es,\n",
    "    es_dest_index=index_name,\n",
    "    es_if_exists=\"replace\",\n",
    "    es_refresh=True\n",
    ")\n",
    "\n"
   ]
  },
  {
   "cell_type": "markdown",
   "metadata": {},
   "source": [
    "## 驗證資料是否插入成功"
   ]
  },
  {
   "cell_type": "code",
   "execution_count": 3,
   "metadata": {},
   "outputs": [
    {
     "name": "stdout",
     "output_type": "stream",
     "text": [
      "成功插入 20000 筆資料到Index 'random_data_index'\n",
      "Index 'random_data_index' 中的documnet數量: 20000\n"
     ]
    }
   ],
   "source": [
    "print(f\"成功插入 {num_records} 筆資料到Index '{index_name}'\")\n",
    "count = es.count(index=index_name)\n",
    "print(f\"Index '{index_name}' 中的documnet數量: {count['count']}\")"
   ]
  },
  {
   "cell_type": "markdown",
   "metadata": {},
   "source": [
    "## 驗證eland是否可以讀出超過一萬筆資料"
   ]
  },
  {
   "cell_type": "code",
   "execution_count": 4,
   "metadata": {},
   "outputs": [
    {
     "name": "stdout",
     "output_type": "stream",
     "text": [
      "Index 'random_data_index' 中的總資料筆數: 20000\n",
      "成功讀取的筆數: 20000\n",
      "\n",
      "前5筆資料:\n",
      "          id  random_number random_string\n",
      "15000  15000            494    TVeK972XS3\n",
      "15001  15001             82    ZDmPEO7W2g\n",
      "15002  15002            928    g45zCgiDM8\n",
      "15003  15003            150    wAzqWJl7UJ\n",
      "15004  15004            453    WLpcC5mADB\n",
      "\n",
      "資料類型:\n",
      "id                int64\n",
      "random_number     int64\n",
      "random_string    object\n",
      "dtype: object\n"
     ]
    }
   ],
   "source": [
    "import eland\n",
    "\n",
    "# 從ES中讀取資料\n",
    "ed_df = eland.DataFrame(es_client=es, es_index_pattern=index_name)\n",
    "\n",
    "total_rows = len(ed_df)\n",
    "print(f\"Index '{index_name}' 中的總資料筆數: {total_rows}\")\n",
    "\n",
    "# 把資料轉換成Pandas DataFrame\n",
    "pd_df = ed_df.to_pandas()\n",
    "\n",
    "print(f\"成功讀取的筆數: {len(pd_df)}\")\n",
    "print(\"\\n前5筆資料:\")\n",
    "print(pd_df.head())\n",
    "print(\"\\n資料類型:\")\n",
    "print(pd_df.dtypes)\n",
    "\n"
   ]
  },
  {
   "cell_type": "code",
   "execution_count": 5,
   "metadata": {},
   "outputs": [
    {
     "name": "stdout",
     "output_type": "stream",
     "text": [
      "ed_df的物件類型: <class 'eland.dataframe.DataFrame'>\n",
      "隨機數大於500的資料數量: 9926\n",
      "隨機數最大的10筆記錄:\n",
      "          id  random_number random_string\n",
      "5917    5917              1    oOJ2lw4EDO\n",
      "14666  14666              1    QTTNJB40Vm\n",
      "12759  12759              1    vDwXRukIOe\n",
      "7686    7686              1    7M6W4RlFxk\n",
      "5867    5867              1    EEyGN8nlgc\n",
      "15209  15209              1    jj4HiY6Cr0\n",
      "869      869              1    ii0pjDVUA2\n",
      "12128  12128              1    BRxoe2TzeZ\n",
      "14824  14824              1    EljQPWnbpZ\n",
      "9287    9287              1    qHNk67Dw72\n",
      "\n",
      "出現次數最多的5個隨機數:\n",
      "                 id random_string\n",
      "              count         count\n",
      "random_number                    \n",
      "1000             21            21\n",
      "999              18            18\n",
      "998              23            23\n",
      "997              16            16\n",
      "996              21            21\n",
      "\n",
      "隨機數在300到700之間的資料數量: 7992\n",
      "\n",
      "隨機字串中包含'a'的資料數量: 2908\n"
     ]
    }
   ],
   "source": [
    "# 從ES中讀取資料\n",
    "ed_df = eland.DataFrame(es_client=es, es_index_pattern=index_name)\n",
    "\n",
    "# 詳細的API說明可參考官方文件:\n",
    "# https://eland.readthedocs.io/en/v8.15.0/reference/supported_apis.html\n",
    "\n",
    "# 秀出ed_df的物件類型\n",
    "print(f\"ed_df的物件類型: {type(ed_df)}\")\n",
    "\n",
    "# 1. 基本篩選查詢\n",
    "filtered_df = ed_df[ed_df['random_number'] > 500]\n",
    "print(f\"隨機數大於500的資料數量: {len(filtered_df)}\")\n",
    "\n",
    "# 2. 排序並獲取前10筆記錄（eland不支援pandas的sort_values方法）\n",
    "sorted_df = ed_df.es_query({\n",
    "    \"sort\": [{\"random_number\": {\"order\": \"desc\"}}]\n",
    "})\n",
    "pandas_df = ed_df.to_pandas()\n",
    "sorted_df = pandas_df.sort_values('random_number', ascending=True)\n",
    "print(f\"隨機數最大的10筆記錄:\")\n",
    "print(sorted_df.head(10))\n",
    "\n",
    "# 3. 分組聚合\n",
    "grouping_df = ed_df.groupby('random_number').agg(['count'])\n",
    "grouping_df = grouping_df.sort_values('random_number', ascending=False)\n",
    "print(\"\\n出現次數最多的5個隨機數:\")\n",
    "print(grouping_df.head(5))\n",
    "\n",
    "\n",
    "# 4. 複雜條件查詢\n",
    "complex_query = ed_df[(ed_df['random_number'] > 300) & (ed_df['random_number'] < 700)]\n",
    "print(f\"\\n隨機數在300到700之間的資料數量: {len(complex_query)}\")\n",
    "\n",
    "# 5. 文字搜尋\n",
    "char_query = ed_df['random_string'].to_pandas()\n",
    "char_query = char_query[char_query.str.contains('a')]\n",
    "print(f\"\\n隨機字串中包含'a'的資料數量: {len(char_query)}\")\n",
    "\n"
   ]
  },
  {
   "cell_type": "code",
   "execution_count": 6,
   "metadata": {},
   "outputs": [
    {
     "name": "stdout",
     "output_type": "stream",
     "text": [
      "\n",
      "ID從1000到1009的資料:\n",
      "        id  random_number random_string\n",
      "1000  1000             97    W1aLzH6FpQ\n",
      "1001  1001             27    vxUj5wZx6n\n",
      "1002  1002            754    CDK7willdB\n",
      "1003  1003            302    QglyT7xwRq\n",
      "1004  1004            390    xcFkxfTyDQ\n",
      "1005  1005            202    ahrAQAlJRt\n",
      "1006  1006            122    aLdWLaCVuj\n",
      "1007  1007            240    qf5CO1u966\n",
      "1008  1008            499    5jVsxidQUs\n",
      "1009  1009            992    Nguno7fDLL\n",
      "\n",
      "隨機數的統計資訊:\n",
      "count    20000.000000\n",
      "mean       498.331150\n",
      "std        288.301338\n",
      "min          1.000000\n",
      "25%        250.165305\n",
      "50%        495.636658\n",
      "75%        747.183718\n",
      "max       1000.000000\n",
      "Name: random_number, dtype: float64\n",
      "\n",
      "使用ES原生查詢，隨機數大於等於990的資料數量: 220\n"
     ]
    }
   ],
   "source": [
    "# 6. 獲取特定ID範圍的資料\n",
    "id_range_query = ed_df[(ed_df['id'] >= 1000) & (ed_df['id'] < 1010)]\n",
    "print(\"\\nID從1000到1009的資料:\")\n",
    "print(id_range_query.to_pandas())\n",
    "\n",
    "# 7. 計算統計資訊\n",
    "statics = ed_df['random_number'].describe()\n",
    "print(\"\\n隨機數的統計資訊:\")\n",
    "print(statics)\n",
    "\n",
    "# 8. 使用ES原生查詢\n",
    "original_query = ed_df.es_query(\n",
    "    {\n",
    "        \"query\": {\n",
    "            \"range\": {\n",
    "                \"random_number\": {\n",
    "                    \"gte\": 990\n",
    "                }\n",
    "            }\n",
    "        }\n",
    "    }\n",
    ")\n",
    "print(f\"\\n使用ES原生查詢，隨機數大於等於990的資料數量: {len(original_query)}\")"
   ]
  }
 ],
 "metadata": {
  "kernelspec": {
   "display_name": "es-test",
   "language": "python",
   "name": "python3"
  },
  "language_info": {
   "codemirror_mode": {
    "name": "ipython",
    "version": 3
   },
   "file_extension": ".py",
   "mimetype": "text/x-python",
   "name": "python",
   "nbconvert_exporter": "python",
   "pygments_lexer": "ipython3",
   "version": "3.11.9"
  }
 },
 "nbformat": 4,
 "nbformat_minor": 2
}
