{
 "cells": [
  {
   "cell_type": "markdown",
   "metadata": {},
   "source": [
    "## 連接ES"
   ]
  },
  {
   "cell_type": "code",
   "execution_count": 1,
   "metadata": {},
   "outputs": [
    {
     "name": "stdout",
     "output_type": "stream",
     "text": [
      "Connected to cluster named 'docker-cluster' (version: 8.15.0)\n"
     ]
    }
   ],
   "source": [
    "import pandas as pd\n",
    "from elasticsearch import Elasticsearch\n",
    "import random\n",
    "import string\n",
    "\n",
    "es_kwargs = {\n",
    "    \"hosts\": \"https://localhost:9200\",\n",
    "    \"basic_auth\": ('elastic', 'pass.123')\n",
    "}\n",
    "\n",
    "es = Elasticsearch(**es_kwargs, ca_certs='../ca.crt')\n",
    "es_info = es.info()\n",
    "print(f\"Connected to cluster named '{es_info['cluster_name']}' (version: {es_info['version']['number']})\")\n"
   ]
  },
  {
   "cell_type": "markdown",
   "metadata": {},
   "source": [
    "## 產生資料的函數"
   ]
  },
  {
   "cell_type": "code",
   "execution_count": 2,
   "metadata": {},
   "outputs": [],
   "source": [
    "import random\n",
    "import string\n",
    "from datetime import datetime, timedelta\n",
    "\n",
    "def generate_random_data(n):\n",
    "    data = []\n",
    "    # 設定時間範圍為2024整年\n",
    "    end_date = datetime(2024, 12, 31)\n",
    "    start_date = end_date - timedelta(days=365)\n",
    "\n",
    "    for i in range(n):\n",
    "        random_string = ''.join(random.choices(string.ascii_letters + string.digits, k=10))\n",
    "        random_date = start_date + timedelta(\n",
    "            seconds=random.randint(0, int((end_date - start_date).total_seconds()))\n",
    "        )\n",
    "        data.append({\n",
    "            \"id\": i,\n",
    "            \"random_string\": random_string,\n",
    "            \"random_number\": random.randint(1, 1000),\n",
    "            \"timestamp\": random_date.isoformat()  # 使用 ISO 格式儲存時間\n",
    "        })\n",
    "    return data"
   ]
  },
  {
   "cell_type": "markdown",
   "metadata": {},
   "source": [
    "## 建立索引並插入資料"
   ]
  },
  {
   "cell_type": "code",
   "execution_count": 3,
   "metadata": {},
   "outputs": [],
   "source": [
    "from eland import pandas_to_eland\n",
    "\n",
    "index_name = \"random_data_index\"\n",
    "\n",
    "if not es.indices.exists(index=index_name):\n",
    "    es.indices.create(index=index_name)\n",
    "\n",
    "num_records = 20000\n",
    "random_data = generate_random_data(num_records)\n",
    "\n",
    "df = pd.DataFrame(random_data)\n",
    "\n",
    "ed = pandas_to_eland(\n",
    "    pd_df=df,\n",
    "    es_client=es,\n",
    "    es_dest_index=index_name,\n",
    "    es_if_exists=\"replace\",\n",
    "    es_refresh=True\n",
    ")\n",
    "\n"
   ]
  },
  {
   "cell_type": "markdown",
   "metadata": {},
   "source": [
    "## 驗證資料是否插入成功"
   ]
  },
  {
   "cell_type": "code",
   "execution_count": 4,
   "metadata": {},
   "outputs": [
    {
     "name": "stdout",
     "output_type": "stream",
     "text": [
      "成功插入 20000 筆資料到Index 'random_data_index'\n",
      "Index 'random_data_index' 中的documnet數量: 20000\n"
     ]
    }
   ],
   "source": [
    "print(f\"成功插入 {num_records} 筆資料到Index '{index_name}'\")\n",
    "count = es.count(index=index_name)\n",
    "print(f\"Index '{index_name}' 中的documnet數量: {count['count']}\")"
   ]
  },
  {
   "cell_type": "markdown",
   "metadata": {},
   "source": [
    "## 驗證eland是否可以讀出超過一萬筆資料"
   ]
  },
  {
   "cell_type": "code",
   "execution_count": 18,
   "metadata": {},
   "outputs": [
    {
     "name": "stdout",
     "output_type": "stream",
     "text": [
      "Index 'random_data_index' 中的總資料筆數: 20000\n",
      "成功讀取的筆數: 20000\n",
      "\n",
      "前5筆資料:\n",
      "        id  random_number random_string                   timestamp\n",
      "3387  3387            746    hiczUfNgGJ  2024-07-24T19:50:33.686978\n",
      "5054  5054            121    Ovp0qVvh65  2024-01-30T10:45:06.686978\n",
      "3393  3393            981    blzUATWSD1  2024-03-03T15:39:53.686978\n",
      "3398  3398            215    wpnwrIoLUy  2024-06-28T09:14:46.686978\n",
      "5062  5062            418    ZiPwXaThbA  2024-07-17T11:26:12.686978\n",
      "\n",
      "資料類型:\n",
      "id                int64\n",
      "random_number     int64\n",
      "random_string    object\n",
      "timestamp        object\n",
      "dtype: object\n"
     ]
    }
   ],
   "source": [
    "import eland\n",
    "\n",
    "# 從ES中讀取資料\n",
    "ed_df = eland.DataFrame(es_client=es, es_index_pattern=index_name)\n",
    "\n",
    "total_rows = len(ed_df)\n",
    "print(f\"Index '{index_name}' 中的總資料筆數: {total_rows}\")\n",
    "\n",
    "# 把資料轉換成Pandas DataFrame\n",
    "pd_df = ed_df.to_pandas()\n",
    "\n",
    "print(f\"成功讀取的筆數: {len(pd_df)}\")\n",
    "print(\"\\n前5筆資料:\")\n",
    "print(pd_df.head())\n",
    "print(\"\\n資料類型:\")\n",
    "print(pd_df.dtypes)\n",
    "\n"
   ]
  },
  {
   "cell_type": "markdown",
   "metadata": {},
   "source": [
    "## 從ES中讀取資料"
   ]
  },
  {
   "cell_type": "code",
   "execution_count": 24,
   "metadata": {},
   "outputs": [
    {
     "name": "stdout",
     "output_type": "stream",
     "text": [
      "ed_df的物件類型: <class 'eland.dataframe.DataFrame'>\n"
     ]
    }
   ],
   "source": [
    "# 從ES中讀取資料\n",
    "ed_df = eland.DataFrame(es_client=es, es_index_pattern=index_name)\n",
    "\n",
    "# 詳細的API說明可參考官方文件:\n",
    "# https://eland.readthedocs.io/en/v8.15.0/reference/supported_apis.html\n",
    "\n",
    "# 秀出ed_df的物件類型\n",
    "print(f\"ed_df的物件類型: {type(ed_df)}\")"
   ]
  },
  {
   "cell_type": "markdown",
   "metadata": {},
   "source": [
    "## 查詢特定時間範圍內的數據"
   ]
  },
  {
   "cell_type": "code",
   "execution_count": 25,
   "metadata": {},
   "outputs": [
    {
     "name": "stdout",
     "output_type": "stream",
     "text": [
      "在 2024-01-01T00:00:00 到 2024-06-30T23:59:59 之間的記錄數：9845\n"
     ]
    }
   ],
   "source": [
    "\n",
    "start_time = \"2024-01-01T00:00:00\"\n",
    "end_time = \"2024-06-30T23:59:59\"\n",
    "\n",
    "time_range_query = ed_df.es_query({\n",
    "    \"query\": {\n",
    "        \"range\": {\n",
    "            \"timestamp\": {\n",
    "                \"gte\": start_time,\n",
    "                \"lte\": end_time\n",
    "            }\n",
    "        }\n",
    "    }\n",
    "})\n",
    "\n",
    "print(f\"在 {start_time} 到 {end_time} 之間的記錄數：{time_range_query.shape[0]}\")\n"
   ]
  },
  {
   "cell_type": "markdown",
   "metadata": {},
   "source": [
    "## 查詢八月的資料"
   ]
  },
  {
   "cell_type": "code",
   "execution_count": 26,
   "metadata": {},
   "outputs": [
    {
     "name": "stdout",
     "output_type": "stream",
     "text": [
      "在2024年8月的記錄數：1361\n"
     ]
    }
   ],
   "source": [
    "\n",
    "august_data = ed_df.es_query({\n",
    "    \"query\": {\n",
    "        \"range\": {\n",
    "            \"timestamp\": {\n",
    "                \"gte\": \"2024-08-01T00:00:00\",\n",
    "                \"lte\": \"2024-08-31T23:59:59\"\n",
    "            }\n",
    "        }\n",
    "    }\n",
    "})\n",
    "\n",
    "print(f\"在2024年8月的記錄數：{august_data.shape[0]}\")\n"
   ]
  },
  {
   "cell_type": "markdown",
   "metadata": {},
   "source": [
    "## 查找特定日期的資料"
   ]
  },
  {
   "cell_type": "code",
   "execution_count": 27,
   "metadata": {},
   "outputs": [
    {
     "name": "stdout",
     "output_type": "stream",
     "text": [
      "2024-05-15 的記錄數：52\n"
     ]
    }
   ],
   "source": [
    "specific_date = \"2024-05-15\"\n",
    "specific_date_data = ed_df.es_query({\n",
    "    \"query\": {\n",
    "        \"range\": {\n",
    "            \"timestamp\": {\n",
    "                \"gte\": specific_date,\n",
    "                \"lt\": f\"{specific_date}||+1d\"\n",
    "            }\n",
    "        }\n",
    "    }\n",
    "})\n",
    "\n",
    "print(f\"{specific_date} 的記錄數：{specific_date_data.shape[0]}\")"
   ]
  },
  {
   "cell_type": "markdown",
   "metadata": {},
   "source": [
    "## 時間範圍和其他條件組合查詢"
   ]
  },
  {
   "cell_type": "code",
   "execution_count": 28,
   "metadata": {},
   "outputs": [
    {
     "name": "stdout",
     "output_type": "stream",
     "text": [
      "2024 年內 random_number 大於 500 的記錄數：6447\n"
     ]
    }
   ],
   "source": [
    "\n",
    "combined_query = ed_df.es_query({\n",
    "    \"query\": {\n",
    "        \"bool\": {\n",
    "            \"must\": [\n",
    "                {\n",
    "                    \"range\": {\n",
    "                        \"timestamp\": {\n",
    "                            \"gte\": \"2024-01-01\",\n",
    "                            \"lt\": \"2025-01-01\"\n",
    "                        }\n",
    "                    }\n",
    "                },\n",
    "                {\n",
    "                    \"range\": {\n",
    "                        \"random_number\": {\n",
    "                            \"gt\": 500\n",
    "                        }\n",
    "                    }\n",
    "                }\n",
    "            ]\n",
    "        }\n",
    "    }\n",
    "})\n",
    "\n",
    "print(f\"2024 年內 random_number 大於 500 的記錄數：{combined_query.shape[0]}\")"
   ]
  },
  {
   "cell_type": "markdown",
   "metadata": {},
   "source": [
    "## 基本篩選查詢"
   ]
  },
  {
   "cell_type": "code",
   "execution_count": 29,
   "metadata": {},
   "outputs": [
    {
     "name": "stdout",
     "output_type": "stream",
     "text": [
      "隨機數大於500的資料數量: 9910\n"
     ]
    }
   ],
   "source": [
    "filtered_df = ed_df[ed_df['random_number'] > 500]\n",
    "print(f\"隨機數大於500的資料數量: {len(filtered_df)}\")"
   ]
  },
  {
   "cell_type": "markdown",
   "metadata": {},
   "source": [
    "## 排序並獲取前10筆記錄（eland不支援pandas的sort_values方法）"
   ]
  },
  {
   "cell_type": "code",
   "execution_count": 30,
   "metadata": {},
   "outputs": [
    {
     "name": "stdout",
     "output_type": "stream",
     "text": [
      "隨機數最大的10筆記錄:\n",
      "          id  random_number random_string                   timestamp\n",
      "7257    7257              1    IhkdVfe5yx  2024-06-10T03:18:27.686978\n",
      "5517    5517              1    iAGWdyQvTi  2023-10-30T11:02:31.686978\n",
      "17585  17585              1    390ADMKp6n  2024-02-03T08:17:31.686978\n",
      "18750  18750              1    NGUq7qOZed  2024-05-17T21:25:29.686978\n",
      "15061  15061              1    qUtpywF5D0  2024-06-24T09:31:43.686978\n",
      "16806  16806              1    NXCG7s85aP  2023-10-30T05:22:36.686978\n",
      "9750    9750              1    ghR344RSBz  2024-07-21T17:34:26.686978\n",
      "9340    9340              1    Vh4nsBowEW  2024-07-15T23:43:11.686978\n",
      "13609  13609              1    i8R04yypa7  2024-02-19T20:40:40.686978\n",
      "14128  14128              1    VFE7Z7Po6d  2024-04-19T01:23:33.686978\n"
     ]
    }
   ],
   "source": [
    "sorted_df = ed_df.es_query({\n",
    "    \"sort\": [{\"random_number\": {\"order\": \"desc\"}}]\n",
    "})\n",
    "pandas_df = ed_df.to_pandas()\n",
    "sorted_df = pandas_df.sort_values('random_number', ascending=True)\n",
    "print(f\"隨機數最大的10筆記錄:\")\n",
    "print(sorted_df.head(10))"
   ]
  },
  {
   "cell_type": "markdown",
   "metadata": {},
   "source": [
    "## 分組聚合"
   ]
  },
  {
   "cell_type": "code",
   "execution_count": 31,
   "metadata": {},
   "outputs": [
    {
     "name": "stdout",
     "output_type": "stream",
     "text": [
      "\n",
      "出現次數最多的5個隨機數:\n",
      "                 id random_string timestamp\n",
      "              count         count     count\n",
      "random_number                              \n",
      "1000             20            20        20\n",
      "999              21            21        21\n",
      "998              17            17        17\n",
      "997              14            14        14\n",
      "996              29            29        29\n"
     ]
    }
   ],
   "source": [
    "grouping_df = ed_df.groupby('random_number').agg(['count'])\n",
    "grouping_df = grouping_df.sort_values('random_number', ascending=False)\n",
    "print(\"\\n出現次數最多的5個隨機數:\")\n",
    "print(grouping_df.head(5))"
   ]
  },
  {
   "cell_type": "markdown",
   "metadata": {},
   "source": [
    "## 複雜條件查詢"
   ]
  },
  {
   "cell_type": "code",
   "execution_count": 32,
   "metadata": {},
   "outputs": [
    {
     "name": "stdout",
     "output_type": "stream",
     "text": [
      "\n",
      "隨機數在300到700之間的資料數量: 7953\n"
     ]
    }
   ],
   "source": [
    "complex_query = ed_df[(ed_df['random_number'] > 300) & (ed_df['random_number'] < 700)]\n",
    "print(f\"\\n隨機數在300到700之間的資料數量: {len(complex_query)}\")"
   ]
  },
  {
   "cell_type": "markdown",
   "metadata": {},
   "source": [
    "## 文字搜尋"
   ]
  },
  {
   "cell_type": "code",
   "execution_count": 33,
   "metadata": {},
   "outputs": [
    {
     "name": "stdout",
     "output_type": "stream",
     "text": [
      "\n",
      "隨機字串中包含'a'的資料數量: 3001\n"
     ]
    }
   ],
   "source": [
    "char_query = ed_df['random_string'].to_pandas()\n",
    "char_query = char_query[char_query.str.contains('a')]\n",
    "print(f\"\\n隨機字串中包含'a'的資料數量: {len(char_query)}\")"
   ]
  },
  {
   "cell_type": "markdown",
   "metadata": {},
   "source": [
    "## 獲取特定ID範圍的資料"
   ]
  },
  {
   "cell_type": "code",
   "execution_count": 34,
   "metadata": {},
   "outputs": [
    {
     "name": "stdout",
     "output_type": "stream",
     "text": [
      "\n",
      "ID從1000到1009的資料:\n",
      "        id  random_number random_string                   timestamp\n",
      "1000  1000            115    NTldRWkdDQ  2023-11-07T09:30:29.686978\n",
      "1001  1001            367    UJHtqclM1h  2024-07-31T14:23:34.686978\n",
      "1002  1002            894    AzMBMkJCm8  2023-10-19T07:13:31.686978\n",
      "1003  1003            827    X0KY4EXtpt  2024-08-20T10:48:35.686978\n",
      "1004  1004            870    ghPyYS1ufc  2023-10-01T14:18:11.686978\n",
      "1005  1005            282    EIiIGf3njF  2024-07-25T07:36:51.686978\n",
      "1006  1006             17    UOPrRAUE1j  2024-01-05T17:49:59.686978\n",
      "1007  1007            611    oGNyfStGlE  2023-08-28T11:13:17.686978\n",
      "1008  1008            884    SIZMK5crCJ  2024-05-08T17:15:18.686978\n",
      "1009  1009             80    2tdAXnMKSS  2024-04-18T06:45:50.686978\n"
     ]
    }
   ],
   "source": [
    "id_range_query = ed_df[(ed_df['id'] >= 1000) & (ed_df['id'] < 1010)]\n",
    "print(\"\\nID從1000到1009的資料:\")\n",
    "print(id_range_query.to_pandas())"
   ]
  },
  {
   "cell_type": "markdown",
   "metadata": {},
   "source": [
    "## 計算統計資訊"
   ]
  },
  {
   "cell_type": "code",
   "execution_count": 35,
   "metadata": {},
   "outputs": [
    {
     "name": "stdout",
     "output_type": "stream",
     "text": [
      "\n",
      "隨機數的統計資訊:\n",
      "count    20000.000000\n",
      "mean       500.331300\n",
      "std        288.927971\n",
      "min          1.000000\n",
      "25%        250.491300\n",
      "50%        497.951880\n",
      "75%        749.803185\n",
      "max       1000.000000\n",
      "Name: random_number, dtype: float64\n"
     ]
    }
   ],
   "source": [
    "statics = ed_df['random_number'].describe()\n",
    "print(\"\\n隨機數的統計資訊:\")\n",
    "print(statics)"
   ]
  },
  {
   "cell_type": "markdown",
   "metadata": {},
   "source": [
    "## 使用ES原生查詢"
   ]
  },
  {
   "cell_type": "code",
   "execution_count": 36,
   "metadata": {},
   "outputs": [
    {
     "name": "stdout",
     "output_type": "stream",
     "text": [
      "\n",
      "使用ES原生查詢，隨機數大於等於990的資料數量: 223\n"
     ]
    }
   ],
   "source": [
    "original_query = ed_df.es_query(\n",
    "    {\n",
    "        \"query\": {\n",
    "            \"range\": {\n",
    "                \"random_number\": {\n",
    "                    \"gte\": 990\n",
    "                }\n",
    "            }\n",
    "        }\n",
    "    }\n",
    ")\n",
    "print(f\"\\n使用ES原生查詢，隨機數大於等於990的資料數量: {len(original_query)}\")"
   ]
  }
 ],
 "metadata": {
  "kernelspec": {
   "display_name": "es-test",
   "language": "python",
   "name": "python3"
  },
  "language_info": {
   "codemirror_mode": {
    "name": "ipython",
    "version": 3
   },
   "file_extension": ".py",
   "mimetype": "text/x-python",
   "name": "python",
   "nbconvert_exporter": "python",
   "pygments_lexer": "ipython3",
   "version": "3.11.9"
  }
 },
 "nbformat": 4,
 "nbformat_minor": 2
}
